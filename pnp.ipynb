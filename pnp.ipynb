{
 "cells": [
  {
   "cell_type": "code",
   "execution_count": 14,
   "id": "9b5ff4b9",
   "metadata": {},
   "outputs": [],
   "source": [
    "import numpy as np\n",
    "import pandas as pd\n",
    "import cv2"
   ]
  },
  {
   "cell_type": "code",
   "execution_count": 15,
   "id": "38cfe77c",
   "metadata": {},
   "outputs": [],
   "source": [
    "class pnp():\n",
    "\n",
    "  def __init__(self, obj_points, img_points, camera_matrix, dist_coeff):\n",
    "    self.obj_points = obj_points\n",
    "    self.img_points = img_points\n",
    "    self.camera_matrix = camera_matrix\n",
    "    self.dist_coeff = np.zeros((4,1))\n",
    "  \n",
    "  def train_model(self):\n",
    "    (self.success, self.r_vec, self.t_vec) = cv2.solvePnP(objectPoints=self.obj_points,\n",
    "                                                          imagePoints=self.img_points,\n",
    "                                                          cameraMatrix=self.camera_matrix,\n",
    "                                                          distCoeffs=self.dist_coeff)\n",
    "\n",
    "    self.rotation_matrix = cv2.Rodrigues(self.r_vec)[0]\n",
    "\n",
    "    self.matrix = np.concatenate((self.rotation_matrix, self.t_vec), axis=1).astype('float64')\n",
    "    \n",
    "    return self.success, self.matrix\n",
    "\n",
    "  def estimate_points(self, points_2d): # points_2d needs to be in the form (u, v, 1) as column vector\n",
    "    points_3d = np.matmul(np.linalg.pinv(self.matrix).astype('float64'),points_2d.astype('float64'))\n",
    "    return points_3d"
   ]
  },
  {
   "cell_type": "code",
   "execution_count": 16,
   "id": "6f18875c",
   "metadata": {},
   "outputs": [],
   "source": [
    "#take input from data\n",
    "obj_points = pd.DataFrame.to_numpy(pd.read_excel(\"obj_points.xlsx\",header=None)).astype(\"float64\")\n",
    "img_points = pd.DataFrame.to_numpy(pd.read_excel(\"img_points.xlsx\", header=None)).astype(\"float64\")\n",
    "dist_coeff = np.zeros((4,1))\n",
    "camera_matrix = pd.DataFrame.to_numpy(pd.read_excel(\"camera_matrix.xlsx\", header=None)).astype(\"float64\")"
   ]
  },
  {
   "cell_type": "code",
   "execution_count": 17,
   "id": "4d315c27",
   "metadata": {},
   "outputs": [
    {
     "data": {
      "text/plain": [
       "(True,\n",
       " array([[ 4.36806573e-01,  7.01371649e-01,  5.63274203e-01,\n",
       "          4.48482065e+02],\n",
       "        [-8.99197835e-01,  3.58091708e-01,  2.51423112e-01,\n",
       "          4.96659135e+02],\n",
       "        [-2.53627789e-02, -6.16318212e-01,  7.87088680e-01,\n",
       "          2.33247031e+01]]))"
      ]
     },
     "execution_count": 17,
     "metadata": {},
     "output_type": "execute_result"
    }
   ],
   "source": [
    "#instantiate the model\n",
    "model = pnp(obj_points, img_points, camera_matrix, dist_coeff)\n",
    "# camera_matrix = [[focal_length, 0, center_x], [0, focal_length, center_y], [0,0,1]]\n",
    "model.train_model()"
   ]
  },
  {
   "cell_type": "code",
   "execution_count": 18,
   "id": "0a8ebcff",
   "metadata": {},
   "outputs": [
    {
     "name": "stdout",
     "output_type": "stream",
     "text": [
      "[[-73.72323163]\n",
      " [ -7.75990805]\n",
      " [-37.42640246]]\n"
     ]
    }
   ],
   "source": [
    "#predicting the points in 3d given 2d points\n",
    "points_2d = pd.DataFrame.to_numpy(pd.read_excel(\"points_2d.xlsx\", header=None))\n",
    "points_2d = points_2d.astype('float32')\n",
    "points_3d = model.estimate_points(points_2d)\n",
    "print(points_3d[:3,:])"
   ]
  },
  {
   "cell_type": "code",
   "execution_count": 19,
   "id": "ab7aa08f",
   "metadata": {},
   "outputs": [
    {
     "name": "stdout",
     "output_type": "stream",
     "text": [
      "obj_points is: [[   0.    0.    0.]\n",
      " [   0. -330.  -65.]\n",
      " [-225.  170. -135.]\n",
      " [ 225.  170. -135.]\n",
      " [-150. -150. -125.]\n",
      " [ 150. -150. -125.]]\n",
      "img_points is: [[359. 391.]\n",
      " [399. 561.]\n",
      " [337. 297.]\n",
      " [513. 301.]\n",
      " [345. 465.]\n",
      " [453. 469.]]\n",
      "points_2d is: [[399.]\n",
      " [561.]\n",
      " [  1.]]\n"
     ]
    }
   ],
   "source": [
    "print(\"obj_points is:\", obj_points)\n",
    "print(\"img_points is:\", img_points)\n",
    "print(\"points_2d is:\", points_2d)"
   ]
  },
  {
   "cell_type": "code",
   "execution_count": null,
   "id": "351d7e25",
   "metadata": {},
   "outputs": [],
   "source": []
  }
 ],
 "metadata": {
  "kernelspec": {
   "display_name": "Python 3 (ipykernel)",
   "language": "python",
   "name": "python3"
  },
  "language_info": {
   "codemirror_mode": {
    "name": "ipython",
    "version": 3
   },
   "file_extension": ".py",
   "mimetype": "text/x-python",
   "name": "python",
   "nbconvert_exporter": "python",
   "pygments_lexer": "ipython3",
   "version": "3.8.2"
  }
 },
 "nbformat": 4,
 "nbformat_minor": 5
}
